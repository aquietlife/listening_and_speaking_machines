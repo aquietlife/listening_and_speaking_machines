{
 "cells": [
  {
   "cell_type": "markdown",
   "metadata": {},
   "source": [
    "# Speech Digit Dataset\n",
    "\n",
    "This notebook shows you how to prepare a synthetic dataset of speech data for digits 0-9.\n",
    "\n",
    "This project is motivated by the desire to create a dataset similar to MNIST but for speech data.\n",
    "\n",
    "## Installation\n",
    "\n",
    "Python==3.10\n",
    "piper-tts==1.2.0\n",
    "\n"
   ]
  },
  {
   "cell_type": "code",
   "execution_count": 3,
   "metadata": {},
   "outputs": [],
   "source": [
    "\n",
    "voices = {\n",
    "    \"amy\": {\n",
    "        \"model\": \"https://huggingface.co/rhasspy/piper-voices/resolve/v1.0.0/en/en_US/amy/medium/en_US-amy-medium.onnx?download=true\",\n",
    "        \"config\": \"https://huggingface.co/rhasspy/piper-voices/resolve/v1.0.0/en/en_US/amy/medium/en_US-amy-medium.onnx.json?download=true.json\"\n",
    "    },\n",
    "    \"arctic\": {\n",
    "        \"model\": \"https://huggingface.co/rhasspy/piper-voices/resolve/v1.0.0/en/en_US/arctic/medium/en_US-arctic-medium.onnx?download=true\",\n",
    "        \"config\": \"https://huggingface.co/rhasspy/piper-voices/resolve/v1.0.0/en/en_US/arctic/medium/en_US-arctic-medium.onnx.json?download=true.json\"\n",
    "    },\n",
    "    \"bryce\": {\n",
    "        \"model\": \"https://huggingface.co/rhasspy/piper-voices/resolve/v1.0.0/en/en_US/bryce/medium/en_US-bryce-medium.onnx?download=true\",\n",
    "        \"config\": \"https://huggingface.co/rhasspy/piper-voices/resolve/v1.0.0/en/en_US/bryce/medium/en_US-bryce-medium.onnx.json?download=true.json\"\n",
    "    },\n",
    "    \"danny\": {\n",
    "        \"model\": \"https://huggingface.co/rhasspy/piper-voices/resolve/v1.0.0/en/en_US/danny/low/en_US-danny-low.onnx?download=true\",\n",
    "        \"config\": \"https://huggingface.co/rhasspy/piper-voices/resolve/v1.0.0/en/en_US/danny/low/en_US-danny-low.onnx.json?download=true.json\"\n",
    "    },\n",
    "    \"hfc_female\": {\n",
    "        \"model\": \"https://huggingface.co/rhasspy/piper-voices/resolve/v1.0.0/en/en_US/hfc_female/medium/en_US-hfc_female-medium.onnx?download=true\",\n",
    "        \"config\": \"https://huggingface.co/rhasspy/piper-voices/resolve/v1.0.0/en/en_US/hfc_female/medium/en_US-hfc_female-medium.onnx.json?download=true.json\"\n",
    "    },\n",
    "    \"hfc_male\": {\n",
    "        \"model\": \"https://huggingface.co/rhasspy/piper-voices/resolve/v1.0.0/en/en_US/hfc_male/medium/en_US-hfc_male-medium.onnx?download=true\",\n",
    "        \"config\": \"https://huggingface.co/rhasspy/piper-voices/resolve/v1.0.0/en/en_US/hfc_male/medium/en_US-hfc_male-medium.onnx.json?download=true.json\"\n",
    "    },\n",
    "    \"joe\": {\n",
    "        \"model\": \"https://huggingface.co/rhasspy/piper-voices/resolve/v1.0.0/en/en_US/joe/medium/en_US-joe-medium.onnx?download=true\",\n",
    "        \"config\": \"https://huggingface.co/rhasspy/piper-voices/resolve/v1.0.0/en/en_US/joe/medium/en_US-joe-medium.onnx.json?download=true.json\"\n",
    "    },\n",
    "    \"john\": {\n",
    "        \"model\": \"https://huggingface.co/rhasspy/piper-voices/resolve/v1.0.0/en/en_US/john/medium/en_US-john-medium.onnx?download=true\",\n",
    "        \"config\": \"https://huggingface.co/rhasspy/piper-voices/resolve/v1.0.0/en/en_US/john/medium/en_US-john-medium.onnx.json?download=true.json\"\n",
    "    },\n",
    "    \"kathleen\": {\n",
    "        \"model\": \"https://huggingface.co/rhasspy/piper-voices/resolve/v1.0.0/en/en_US/kathleen/low/en_US-kathleen-low.onnx?download=true\",\n",
    "        \"config\": \"https://huggingface.co/rhasspy/piper-voices/resolve/v1.0.0/en/en_US/kathleen/low/en_US-kathleen-low.onnx.json?download=true.json\"\n",
    "    },\n",
    "    \"kristin\": {\n",
    "        \"model\": \"https://huggingface.co/rhasspy/piper-voices/resolve/v1.0.0/en/en_US/kristin/medium/en_US-kristin-medium.onnx?download=true\",\n",
    "        \"config\": \"https://huggingface.co/rhasspy/piper-voices/resolve/v1.0.0/en/en_US/kristin/medium/en_US-kristin-medium.onnx.json?download=true.json\"\n",
    "    },\n",
    "    \"kusal\": {\n",
    "        \"model\": \"https://huggingface.co/rhasspy/piper-voices/resolve/v1.0.0/en/en_US/kusal/medium/en_US-kusal-medium.onnx?download=true\",\n",
    "        \"config\": \"https://huggingface.co/rhasspy/piper-voices/resolve/v1.0.0/en/en_US/kusal/medium/en_US-kusal-medium.onnx.json?download=true.json\"\n",
    "    },\n",
    "    \"l2arctic\": {\n",
    "        \"model\": \"https://huggingface.co/rhasspy/piper-voices/resolve/v1.0.0/en/en_US/l2arctic/medium/en_US-l2arctic-medium.onnx?download=true\",\n",
    "        \"config\": \"https://huggingface.co/rhasspy/piper-voices/resolve/v1.0.0/en/en_US/l2arctic/medium/en_US-l2arctic-medium.onnx.json?download=true.json\"\n",
    "    },\n",
    "    \"lessac\": {\n",
    "        \"model\": \"https://huggingface.co/rhasspy/piper-voices/resolve/v1.0.0/en/en_US/lessac/medium/en_US-lessac-medium.onnx?download=true\",\n",
    "        \"config\": \"https://huggingface.co/rhasspy/piper-voices/resolve/v1.0.0/en/en_US/lessac/medium/en_US-lessac-medium.onnx.json?download=true.json\"\n",
    "    },\n",
    "    \"libritts\": {\n",
    "        \"model\": \"https://huggingface.co/rhasspy/piper-voices/resolve/v1.0.0/en/en_US/libritts/high/en_US-libritts-high.onnx?download=true\",\n",
    "        \"config\": \"https://huggingface.co/rhasspy/piper-voices/resolve/v1.0.0/en/en_US/libritts/high/en_US-libritts-high.onnx.json?download=true.json\"\n",
    "    },\n",
    "    \"libritts_r\": {\n",
    "        \"model\": \"https://huggingface.co/rhasspy/piper-voices/resolve/v1.0.0/en/en_US/libritts_r/medium/en_US-libritts_r-medium.onnx?download=true\",\n",
    "        \"config\": \"https://huggingface.co/rhasspy/piper-voices/resolve/v1.0.0/en/en_US/libritts_r/medium/en_US-libritts_r-medium.onnx.json?download=true.json\"\n",
    "    },\n",
    "    \"ljspeech\": {\n",
    "        \"model\": \"https://huggingface.co/rhasspy/piper-voices/resolve/v1.0.0/en/en_US/ljspeech/medium/en_US-ljspeech-medium.onnx?download=true\",\n",
    "        \"config\": \"https://huggingface.co/rhasspy/piper-voices/resolve/v1.0.0/en/en_US/ljspeech/medium/en_US-ljspeech-medium.onnx.json?download=true.json\"\n",
    "    },\n",
    "    \"norman\": {\n",
    "        \"model\": \"https://huggingface.co/rhasspy/piper-voices/resolve/v1.0.0/en/en_US/norman/medium/en_US-norman-medium.onnx?download=true\",\n",
    "        \"config\": \"https://huggingface.co/rhasspy/piper-voices/resolve/v1.0.0/en/en_US/norman/medium/en_US-norman-medium.onnx.json?download=true.json\"\n",
    "    },\n",
    "    \"ryan\": {\n",
    "        \"model\": \"https://huggingface.co/rhasspy/piper-voices/resolve/v1.0.0/en/en_US/ryan/medium/en_US-ryan-medium.onnx?download=true\",\n",
    "        \"config\": \"https://huggingface.co/rhasspy/piper-voices/resolve/v1.0.0/en/en_US/ryan/medium/en_US-ryan-medium.onnx.json?download=true.json\"\n",
    "    }\n",
    "}\n",
    "\n"
   ]
  },
  {
   "cell_type": "code",
   "execution_count": null,
   "metadata": {},
   "outputs": [],
   "source": [
    "\n",
    "# download voice models\n",
    "\n",
    "import os\n",
    "import subprocess\n",
    "\n",
    "for voice, urls in voices.items():\n",
    "    # Create directory for the voice\n",
    "    voice_dir = os.path.join('voices', voice)\n",
    "    os.makedirs(voice_dir, exist_ok=True)\n",
    "    print(voice_dir)\n",
    "    \n",
    "    \n",
    "    # Download model file\n",
    "    model_url = urls['model']\n",
    "    model_filename = os.path.join(voice_dir, f'{voice}_model.onnx')\n",
    "    subprocess.run(['wget', '-O', model_filename, model_url], check=True)\n",
    "    \n",
    "    # Download config file\n",
    "    config_url = urls['config']\n",
    "    config_filename = os.path.join(voice_dir, f'{voice}_config.json')\n",
    "    subprocess.run(['wget', '-O', config_filename, config_url], check=True)\n",
    "    \n",
    "    print(f\"Downloaded files for {voice}\")\n",
    "    "
   ]
  },
  {
   "cell_type": "code",
   "execution_count": 8,
   "metadata": {},
   "outputs": [],
   "source": [
    "# playing with some data augmentation\n",
    "import numpy as np\n",
    "import librosa\n",
    "\n",
    "def noise(data, noise_amt=0.035):\n",
    "    noise_amp = noise_amt*np.random.uniform()*np.amax(data)\n",
    "    data = data + noise_amp * np.random.normal(size=data.shape[0])\n",
    "    return data\n",
    "\n",
    "def stretch(data, rate=0.8):\n",
    "    return librosa.effects.time_stretch(data, rate=rate)\n",
    "\n",
    "def shift(data):\n",
    "    shift_range = int(np.random.uniform(low=-5, high = 5) * 1000)\n",
    "    return np.roll(data, shift_range)\n",
    "\n",
    "\n",
    "def pitch(data, sampling_rate, n_steps=2):\n",
    "    return librosa.effects.pitch_shift(data, sr=sampling_rate, n_steps=n_steps)"
   ]
  },
  {
   "cell_type": "code",
   "execution_count": 62,
   "metadata": {},
   "outputs": [
    {
     "name": "stderr",
     "output_type": "stream",
     "text": [
      "100%|██████████| 250/250 [00:10<00:00, 23.25it/s]\n",
      "100%|██████████| 250/250 [00:07<00:00, 32.22it/s]\n",
      "100%|██████████| 250/250 [00:08<00:00, 29.94it/s]\n",
      "100%|██████████| 250/250 [00:08<00:00, 30.45it/s]\n",
      "100%|██████████| 250/250 [00:09<00:00, 27.05it/s]\n",
      "100%|██████████| 250/250 [00:09<00:00, 25.18it/s]\n",
      "100%|██████████| 250/250 [00:08<00:00, 29.73it/s]\n",
      "100%|██████████| 250/250 [00:10<00:00, 24.41it/s]\n",
      "100%|██████████| 250/250 [00:09<00:00, 27.49it/s]\n",
      "100%|██████████| 250/250 [00:09<00:00, 26.81it/s]\n",
      "100%|██████████| 10/10 [01:46<00:00, 10.63s/it]\n",
      "100%|██████████| 250/250 [00:08<00:00, 30.79it/s]\n",
      "100%|██████████| 250/250 [00:08<00:00, 30.02it/s]\n",
      "100%|██████████| 250/250 [00:05<00:00, 44.10it/s]\n",
      "100%|██████████| 250/250 [00:08<00:00, 28.34it/s]\n",
      "100%|██████████| 250/250 [00:09<00:00, 27.56it/s]\n",
      "100%|██████████| 250/250 [00:08<00:00, 30.88it/s]\n",
      "100%|██████████| 250/250 [00:08<00:00, 29.67it/s]\n",
      "100%|██████████| 250/250 [00:10<00:00, 24.86it/s]\n",
      "100%|██████████| 250/250 [00:05<00:00, 42.12it/s]\n",
      "100%|██████████| 250/250 [00:07<00:00, 35.69it/s]\n",
      "100%|██████████| 10/10 [01:34<00:00,  9.47s/it]\n",
      "100%|██████████| 250/250 [00:10<00:00, 24.83it/s]\n",
      "100%|██████████| 250/250 [00:09<00:00, 27.64it/s]\n",
      "100%|██████████| 250/250 [00:14<00:00, 16.91it/s]\n",
      "100%|██████████| 250/250 [00:07<00:00, 31.84it/s]\n",
      "100%|██████████| 250/250 [00:08<00:00, 29.35it/s]\n",
      "100%|██████████| 250/250 [00:08<00:00, 29.58it/s]\n",
      "100%|██████████| 250/250 [00:10<00:00, 23.82it/s]\n",
      "100%|██████████| 250/250 [00:09<00:00, 26.50it/s]\n",
      "100%|██████████| 250/250 [00:09<00:00, 27.11it/s]\n",
      "100%|██████████| 250/250 [00:07<00:00, 31.50it/s]\n",
      "100%|██████████| 10/10 [01:52<00:00, 11.28s/it]\n",
      "100%|██████████| 250/250 [00:07<00:00, 31.79it/s]\n",
      "100%|██████████| 250/250 [00:07<00:00, 34.76it/s]\n",
      "100%|██████████| 250/250 [00:06<00:00, 39.09it/s]\n",
      "100%|██████████| 250/250 [00:07<00:00, 31.86it/s]\n",
      "100%|██████████| 250/250 [00:07<00:00, 34.14it/s]\n",
      "100%|██████████| 250/250 [00:08<00:00, 30.15it/s]\n",
      "100%|██████████| 250/250 [00:08<00:00, 28.18it/s]\n",
      "100%|██████████| 250/250 [00:09<00:00, 27.24it/s]\n",
      "100%|██████████| 250/250 [00:07<00:00, 34.96it/s]\n",
      "100%|██████████| 250/250 [00:07<00:00, 32.97it/s]\n",
      "100%|██████████| 10/10 [01:32<00:00,  9.29s/it]\n",
      "100%|██████████| 250/250 [00:12<00:00, 20.24it/s]\n",
      "100%|██████████| 250/250 [00:14<00:00, 16.79it/s]\n",
      "100%|██████████| 250/250 [00:07<00:00, 33.20it/s]\n",
      "100%|██████████| 250/250 [00:07<00:00, 32.10it/s]\n",
      "100%|██████████| 250/250 [00:08<00:00, 29.43it/s]\n",
      "100%|██████████| 250/250 [00:09<00:00, 25.08it/s]\n",
      "100%|██████████| 250/250 [00:07<00:00, 33.83it/s]\n",
      "100%|██████████| 250/250 [00:08<00:00, 28.03it/s]\n",
      "100%|██████████| 250/250 [00:07<00:00, 33.07it/s]\n",
      "100%|██████████| 250/250 [00:09<00:00, 27.03it/s]\n",
      "100%|██████████| 10/10 [01:49<00:00, 10.91s/it]\n",
      "100%|██████████| 250/250 [00:09<00:00, 27.73it/s]\n",
      "100%|██████████| 250/250 [00:07<00:00, 32.64it/s]\n",
      "100%|██████████| 250/250 [00:07<00:00, 33.04it/s]\n",
      "100%|██████████| 250/250 [00:06<00:00, 39.69it/s]\n",
      "100%|██████████| 250/250 [00:07<00:00, 32.04it/s]\n",
      "100%|██████████| 250/250 [00:08<00:00, 30.35it/s]\n",
      "100%|██████████| 250/250 [00:07<00:00, 32.89it/s]\n",
      "100%|██████████| 250/250 [00:07<00:00, 32.11it/s]\n",
      "100%|██████████| 250/250 [00:08<00:00, 29.35it/s]\n",
      "100%|██████████| 250/250 [00:07<00:00, 34.13it/s]\n",
      "100%|██████████| 10/10 [01:32<00:00,  9.28s/it]\n",
      "100%|██████████| 250/250 [00:08<00:00, 29.81it/s]\n",
      "100%|██████████| 250/250 [00:07<00:00, 35.70it/s]\n",
      "100%|██████████| 250/250 [00:05<00:00, 43.89it/s]\n",
      "100%|██████████| 250/250 [00:07<00:00, 31.66it/s]\n",
      "100%|██████████| 250/250 [00:06<00:00, 35.87it/s]\n",
      "100%|██████████| 250/250 [00:07<00:00, 32.95it/s]\n",
      "100%|██████████| 250/250 [00:07<00:00, 34.50it/s]\n",
      "100%|██████████| 250/250 [00:08<00:00, 31.09it/s]\n",
      "100%|██████████| 250/250 [00:05<00:00, 42.76it/s]\n",
      "100%|██████████| 250/250 [00:08<00:00, 29.93it/s]\n",
      "100%|██████████| 10/10 [01:27<00:00,  8.79s/it]\n",
      "100%|██████████| 250/250 [00:09<00:00, 26.17it/s]\n",
      "100%|██████████| 250/250 [00:12<00:00, 20.52it/s]\n",
      "100%|██████████| 250/250 [00:10<00:00, 23.86it/s]\n",
      "100%|██████████| 250/250 [00:08<00:00, 31.07it/s]\n",
      "100%|██████████| 250/250 [00:10<00:00, 24.61it/s]\n",
      "100%|██████████| 250/250 [00:09<00:00, 25.66it/s]\n",
      "100%|██████████| 250/250 [00:10<00:00, 22.82it/s]\n",
      "100%|██████████| 250/250 [00:10<00:00, 23.21it/s]\n",
      "100%|██████████| 250/250 [00:08<00:00, 31.25it/s]\n",
      "100%|██████████| 250/250 [00:10<00:00, 22.93it/s]\n",
      "100%|██████████| 10/10 [01:57<00:00, 11.78s/it]\n",
      "100%|██████████| 250/250 [00:09<00:00, 27.74it/s]\n",
      "100%|██████████| 250/250 [00:06<00:00, 38.76it/s]\n",
      "100%|██████████| 250/250 [00:06<00:00, 39.73it/s]\n",
      "100%|██████████| 250/250 [00:08<00:00, 30.55it/s]\n",
      "100%|██████████| 250/250 [00:06<00:00, 36.00it/s]\n",
      "100%|██████████| 250/250 [00:07<00:00, 33.84it/s]\n",
      "100%|██████████| 250/250 [00:08<00:00, 29.98it/s]\n",
      "100%|██████████| 250/250 [00:06<00:00, 36.09it/s]\n",
      "100%|██████████| 250/250 [00:05<00:00, 42.54it/s]\n",
      "100%|██████████| 250/250 [00:07<00:00, 34.84it/s]\n",
      "100%|██████████| 10/10 [01:27<00:00,  8.77s/it]\n",
      "100%|██████████| 250/250 [00:09<00:00, 26.06it/s]\n",
      "100%|██████████| 250/250 [00:20<00:00, 12.15it/s]\n",
      "100%|██████████| 250/250 [00:08<00:00, 28.38it/s]\n",
      "100%|██████████| 250/250 [00:22<00:00, 11.13it/s]\n",
      "100%|██████████| 250/250 [00:09<00:00, 25.79it/s]\n",
      "100%|██████████| 250/250 [00:14<00:00, 16.95it/s]\n",
      "100%|██████████| 250/250 [00:10<00:00, 23.44it/s]\n",
      "100%|██████████| 250/250 [00:17<00:00, 14.04it/s]\n",
      "100%|██████████| 250/250 [00:08<00:00, 27.86it/s]\n",
      "100%|██████████| 250/250 [00:09<00:00, 26.24it/s]\n",
      "100%|██████████| 10/10 [02:31<00:00, 15.16s/it]\n",
      "100%|██████████| 250/250 [00:09<00:00, 25.76it/s]\n",
      "100%|██████████| 250/250 [00:10<00:00, 23.25it/s]\n",
      "100%|██████████| 250/250 [00:06<00:00, 36.19it/s]\n",
      "100%|██████████| 250/250 [00:07<00:00, 32.26it/s]\n",
      "100%|██████████| 250/250 [00:08<00:00, 28.31it/s]\n",
      "100%|██████████| 250/250 [00:09<00:00, 25.70it/s]\n",
      "100%|██████████| 250/250 [00:10<00:00, 24.15it/s]\n",
      "100%|██████████| 250/250 [00:09<00:00, 27.10it/s]\n",
      "100%|██████████| 250/250 [00:06<00:00, 37.23it/s]\n",
      "100%|██████████| 250/250 [00:09<00:00, 26.92it/s]\n",
      "100%|██████████| 10/10 [01:44<00:00, 10.47s/it]\n",
      "100%|██████████| 250/250 [00:09<00:00, 25.38it/s]\n",
      " 88%|████████▊ | 221/250 [00:06<00:00, 33.44it/s]\n",
      " 10%|█         | 1/10 [00:19<02:56, 19.66s/it]\n"
     ]
    },
    {
     "ename": "KeyboardInterrupt",
     "evalue": "",
     "output_type": "error",
     "traceback": [
      "\u001b[0;31m---------------------------------------------------------------------------\u001b[0m",
      "\u001b[0;31mKeyboardInterrupt\u001b[0m                         Traceback (most recent call last)",
      "Cell \u001b[0;32mIn[62], line 46\u001b[0m\n\u001b[1;32m     42\u001b[0m \u001b[38;5;28;01mfor\u001b[39;00m i \u001b[38;5;129;01min\u001b[39;00m tqdm(\u001b[38;5;28mrange\u001b[39m(\u001b[38;5;241m1000\u001b[39m \u001b[38;5;241m/\u001b[39m\u001b[38;5;241m/\u001b[39m \u001b[38;5;241m4\u001b[39m)):\n\u001b[1;32m     43\u001b[0m     \u001b[38;5;66;03m# add some random noise\u001b[39;00m\n\u001b[1;32m     44\u001b[0m     noise_data \u001b[38;5;241m=\u001b[39m noise(audio, np\u001b[38;5;241m.\u001b[39mrandom\u001b[38;5;241m.\u001b[39muniform(\u001b[38;5;241m0.001\u001b[39m, \u001b[38;5;241m0.01\u001b[39m))\n\u001b[0;32m---> 46\u001b[0m     stretch_data \u001b[38;5;241m=\u001b[39m \u001b[43mstretch\u001b[49m\u001b[43m(\u001b[49m\u001b[43maudio\u001b[49m\u001b[43m,\u001b[49m\u001b[43m \u001b[49m\u001b[43mrate\u001b[49m\u001b[38;5;241;43m=\u001b[39;49m\u001b[43mnp\u001b[49m\u001b[38;5;241;43m.\u001b[39;49m\u001b[43mrandom\u001b[49m\u001b[38;5;241;43m.\u001b[39;49m\u001b[43muniform\u001b[49m\u001b[43m(\u001b[49m\u001b[38;5;241;43m0.1\u001b[39;49m\u001b[43m,\u001b[49m\u001b[43m \u001b[49m\u001b[38;5;241;43m0.9\u001b[39;49m\u001b[43m)\u001b[49m\u001b[43m)\u001b[49m\n\u001b[1;32m     48\u001b[0m     shift_data \u001b[38;5;241m=\u001b[39m shift(audio)\n\u001b[1;32m     50\u001b[0m     pitch_data \u001b[38;5;241m=\u001b[39m pitch(audio, sample_rate, n_steps\u001b[38;5;241m=\u001b[39mnp\u001b[38;5;241m.\u001b[39mrandom\u001b[38;5;241m.\u001b[39mrandint(\u001b[38;5;241m-\u001b[39m\u001b[38;5;241m2\u001b[39m, \u001b[38;5;241m2\u001b[39m))\n",
      "Cell \u001b[0;32mIn[8], line 11\u001b[0m, in \u001b[0;36mstretch\u001b[0;34m(data, rate)\u001b[0m\n\u001b[1;32m     10\u001b[0m \u001b[38;5;28;01mdef\u001b[39;00m \u001b[38;5;21mstretch\u001b[39m(data, rate\u001b[38;5;241m=\u001b[39m\u001b[38;5;241m0.8\u001b[39m):\n\u001b[0;32m---> 11\u001b[0m     \u001b[38;5;28;01mreturn\u001b[39;00m \u001b[43mlibrosa\u001b[49m\u001b[38;5;241;43m.\u001b[39;49m\u001b[43meffects\u001b[49m\u001b[38;5;241;43m.\u001b[39;49m\u001b[43mtime_stretch\u001b[49m\u001b[43m(\u001b[49m\u001b[43mdata\u001b[49m\u001b[43m,\u001b[49m\u001b[43m \u001b[49m\u001b[43mrate\u001b[49m\u001b[38;5;241;43m=\u001b[39;49m\u001b[43mrate\u001b[49m\u001b[43m)\u001b[49m\n",
      "File \u001b[0;32m~/miniconda3/envs/lasm/lib/python3.10/site-packages/librosa/effects.py:387\u001b[0m, in \u001b[0;36mtime_stretch\u001b[0;34m(y, rate, **kwargs)\u001b[0m\n\u001b[1;32m    384\u001b[0m stft \u001b[38;5;241m=\u001b[39m core\u001b[38;5;241m.\u001b[39mstft(y, \u001b[38;5;241m*\u001b[39m\u001b[38;5;241m*\u001b[39mkwargs)\n\u001b[1;32m    386\u001b[0m \u001b[38;5;66;03m# Stretch by phase vocoding\u001b[39;00m\n\u001b[0;32m--> 387\u001b[0m stft_stretch \u001b[38;5;241m=\u001b[39m \u001b[43mcore\u001b[49m\u001b[38;5;241;43m.\u001b[39;49m\u001b[43mphase_vocoder\u001b[49m\u001b[43m(\u001b[49m\n\u001b[1;32m    388\u001b[0m \u001b[43m    \u001b[49m\u001b[43mstft\u001b[49m\u001b[43m,\u001b[49m\n\u001b[1;32m    389\u001b[0m \u001b[43m    \u001b[49m\u001b[43mrate\u001b[49m\u001b[38;5;241;43m=\u001b[39;49m\u001b[43mrate\u001b[49m\u001b[43m,\u001b[49m\n\u001b[1;32m    390\u001b[0m \u001b[43m    \u001b[49m\u001b[43mhop_length\u001b[49m\u001b[38;5;241;43m=\u001b[39;49m\u001b[43mkwargs\u001b[49m\u001b[38;5;241;43m.\u001b[39;49m\u001b[43mget\u001b[49m\u001b[43m(\u001b[49m\u001b[38;5;124;43m\"\u001b[39;49m\u001b[38;5;124;43mhop_length\u001b[39;49m\u001b[38;5;124;43m\"\u001b[39;49m\u001b[43m,\u001b[49m\u001b[43m \u001b[49m\u001b[38;5;28;43;01mNone\u001b[39;49;00m\u001b[43m)\u001b[49m\u001b[43m,\u001b[49m\n\u001b[1;32m    391\u001b[0m \u001b[43m    \u001b[49m\u001b[43mn_fft\u001b[49m\u001b[38;5;241;43m=\u001b[39;49m\u001b[43mkwargs\u001b[49m\u001b[38;5;241;43m.\u001b[39;49m\u001b[43mget\u001b[49m\u001b[43m(\u001b[49m\u001b[38;5;124;43m\"\u001b[39;49m\u001b[38;5;124;43mn_fft\u001b[39;49m\u001b[38;5;124;43m\"\u001b[39;49m\u001b[43m,\u001b[49m\u001b[43m \u001b[49m\u001b[38;5;28;43;01mNone\u001b[39;49;00m\u001b[43m)\u001b[49m\u001b[43m,\u001b[49m\n\u001b[1;32m    392\u001b[0m \u001b[43m\u001b[49m\u001b[43m)\u001b[49m\n\u001b[1;32m    394\u001b[0m \u001b[38;5;66;03m# Predict the length of y_stretch\u001b[39;00m\n\u001b[1;32m    395\u001b[0m len_stretch \u001b[38;5;241m=\u001b[39m \u001b[38;5;28mint\u001b[39m(\u001b[38;5;28mround\u001b[39m(y\u001b[38;5;241m.\u001b[39mshape[\u001b[38;5;241m-\u001b[39m\u001b[38;5;241m1\u001b[39m] \u001b[38;5;241m/\u001b[39m rate))\n",
      "File \u001b[0;32m~/miniconda3/envs/lasm/lib/python3.10/site-packages/librosa/core/spectrum.py:1465\u001b[0m, in \u001b[0;36mphase_vocoder\u001b[0;34m(D, rate, hop_length, n_fft)\u001b[0m\n\u001b[1;32m   1462\u001b[0m d_stretch[\u001b[38;5;241m.\u001b[39m\u001b[38;5;241m.\u001b[39m\u001b[38;5;241m.\u001b[39m, t] \u001b[38;5;241m=\u001b[39m util\u001b[38;5;241m.\u001b[39mphasor(phase_acc, mag\u001b[38;5;241m=\u001b[39mmag)\n\u001b[1;32m   1464\u001b[0m \u001b[38;5;66;03m# Compute phase advance\u001b[39;00m\n\u001b[0;32m-> 1465\u001b[0m dphase \u001b[38;5;241m=\u001b[39m \u001b[43mnp\u001b[49m\u001b[38;5;241;43m.\u001b[39;49m\u001b[43mangle\u001b[49m\u001b[43m(\u001b[49m\u001b[43mcolumns\u001b[49m\u001b[43m[\u001b[49m\u001b[38;5;241;43m.\u001b[39;49m\u001b[38;5;241;43m.\u001b[39;49m\u001b[38;5;241;43m.\u001b[39;49m\u001b[43m,\u001b[49m\u001b[43m \u001b[49m\u001b[38;5;241;43m1\u001b[39;49m\u001b[43m]\u001b[49m\u001b[43m)\u001b[49m \u001b[38;5;241m-\u001b[39m np\u001b[38;5;241m.\u001b[39mangle(columns[\u001b[38;5;241m.\u001b[39m\u001b[38;5;241m.\u001b[39m\u001b[38;5;241m.\u001b[39m, \u001b[38;5;241m0\u001b[39m]) \u001b[38;5;241m-\u001b[39m phi_advance\n\u001b[1;32m   1467\u001b[0m \u001b[38;5;66;03m# Wrap to -pi:pi range\u001b[39;00m\n\u001b[1;32m   1468\u001b[0m dphase \u001b[38;5;241m=\u001b[39m dphase \u001b[38;5;241m-\u001b[39m \u001b[38;5;241m2.0\u001b[39m \u001b[38;5;241m*\u001b[39m np\u001b[38;5;241m.\u001b[39mpi \u001b[38;5;241m*\u001b[39m np\u001b[38;5;241m.\u001b[39mround(dphase \u001b[38;5;241m/\u001b[39m (\u001b[38;5;241m2.0\u001b[39m \u001b[38;5;241m*\u001b[39m np\u001b[38;5;241m.\u001b[39mpi))\n",
      "File \u001b[0;32m~/miniconda3/envs/lasm/lib/python3.10/site-packages/numpy/lib/_function_base_impl.py:1656\u001b[0m, in \u001b[0;36mangle\u001b[0;34m(z, deg)\u001b[0m\n\u001b[1;32m   1653\u001b[0m     zimag \u001b[38;5;241m=\u001b[39m \u001b[38;5;241m0\u001b[39m\n\u001b[1;32m   1654\u001b[0m     zreal \u001b[38;5;241m=\u001b[39m z\n\u001b[0;32m-> 1656\u001b[0m a \u001b[38;5;241m=\u001b[39m \u001b[43marctan2\u001b[49m\u001b[43m(\u001b[49m\u001b[43mzimag\u001b[49m\u001b[43m,\u001b[49m\u001b[43m \u001b[49m\u001b[43mzreal\u001b[49m\u001b[43m)\u001b[49m\n\u001b[1;32m   1657\u001b[0m \u001b[38;5;28;01mif\u001b[39;00m deg:\n\u001b[1;32m   1658\u001b[0m     a \u001b[38;5;241m*\u001b[39m\u001b[38;5;241m=\u001b[39m \u001b[38;5;241m180\u001b[39m\u001b[38;5;241m/\u001b[39mpi\n",
      "\u001b[0;31mKeyboardInterrupt\u001b[0m: "
     ]
    }
   ],
   "source": [
    "import os\n",
    "import subprocess\n",
    "import librosa\n",
    "import numpy as np\n",
    "import soundfile as sf\n",
    "\n",
    "# select a voice\n",
    "for voice, urls in voices.items():\n",
    "\n",
    "    voice_dir = os.path.join('voices', voice)\n",
    "    #print(voice_dir)\n",
    "\n",
    "    # Download model file\n",
    "    model_url = urls['model']\n",
    "    model_filename = os.path.join(voice_dir, f'{voice}_model.onnx')\n",
    "    \n",
    "    # Download config file\n",
    "    config_url = urls['config']\n",
    "    config_filename = os.path.join(voice_dir, f'{voice}_config.json')\n",
    "\n",
    "    #print(model_filename)\n",
    "    #print(voice)\n",
    "\n",
    "    # use that voice to create audio for digits 0-10\n",
    "    for digit in tqdm(range(10)):\n",
    "\n",
    "        # Create directory for the voice\n",
    "        digit_dir = os.path.join('speech_digits', str(digit))\n",
    "        #print(digit_dir)\n",
    "        os.makedirs(digit_dir, exist_ok=True)\n",
    "        #print(voice_dir)\n",
    "    \n",
    "        output_path = f'speech_digits/{str(digit)}/{voice}_{str(digit)}_original.wav'\n",
    "        piper_cmd = ['piper', '--model', model_filename, '--config', config_filename, '--output_file', output_path]\n",
    "        #print(piper_cmd)\n",
    "\n",
    "        subprocess.run(piper_cmd, input=str(digit), text=True, capture_output=True, check=True)\n",
    "\n",
    "        # load up that voice\n",
    "        audio, sample_rate = librosa.load(output_path)\n",
    "\n",
    "        for i in tqdm(range(1000 // 4)):\n",
    "            # add some random noise\n",
    "            noise_data = noise(audio, np.random.uniform(0.001, 0.01))\n",
    "\n",
    "            stretch_data = stretch(audio, rate=np.random.uniform(0.1, 0.9))\n",
    "\n",
    "            shift_data = shift(audio)\n",
    "\n",
    "            pitch_data = pitch(audio, sample_rate, n_steps=np.random.randint(-2, 2))\n",
    "\n",
    "            sf.write(f'speech_digits/{str(digit)}/{voice}_{str(digit)}_noise_{i}.wav', noise_data, sample_rate)\n",
    "            sf.write(f'speech_digits/{str(digit)}/{voice}_{str(digit)}_stretch_{i}.wav', stretch_data, sample_rate)\n",
    "            sf.write(f'speech_digits/{str(digit)}/{voice}_{str(digit)}_shift_{i}.wav', shift_data, sample_rate)\n",
    "            sf.write(f'speech_digits/{str(digit)}/{voice}_{str(digit)}_pitch_{i}.wav', pitch_data, sample_rate)"
   ]
  },
  {
   "cell_type": "code",
   "execution_count": 36,
   "metadata": {},
   "outputs": [
    {
     "name": "stdout",
     "output_type": "stream",
     "text": [
      "900\n",
      "['speech_digits/4/john_4_shift.wav', 'speech_digits/4/john_4_stretch.wav', 'speech_digits/4/norman_4_pitch.wav', 'speech_digits/4/norman_4_noise.wav', 'speech_digits/4/kathleen_4_noise.wav', 'speech_digits/4/libritts_r_4_stretch.wav', 'speech_digits/4/ljspeech_4_stretch.wav', 'speech_digits/4/bryce_4_noise.wav', 'speech_digits/4/hfc_male_4_noise.wav', 'speech_digits/4/ryan_4_stretch.wav', 'speech_digits/4/kusal_4_stretch.wav', 'speech_digits/4/libritts_r_4_shift.wav', 'speech_digits/4/hfc_female_4_shift.wav', 'speech_digits/4/danny_4_stretch.wav', 'speech_digits/4/joe_4_shift.wav', 'speech_digits/4/danny_4_shift.wav', 'speech_digits/4/kathleen_4_stretch.wav', 'speech_digits/4/danny_4_original.wav', 'speech_digits/4/lessac_4_shift.wav', 'speech_digits/4/norman_4_original.wav', 'speech_digits/4/hfc_male_4_stretch.wav', 'speech_digits/4/bryce_4_shift.wav', 'speech_digits/4/bryce_4_original.wav', 'speech_digits/4/john_4_noise.wav', 'speech_digits/4/lessac_4_pitch.wav', 'speech_digits/4/lessac_4_noise.wav', 'speech_digits/4/l2arctic_4_original.wav', 'speech_digits/4/libritts_4_noise.wav', 'speech_digits/4/arctic_4_shift.wav', 'speech_digits/4/danny_4_noise.wav', 'speech_digits/4/hfc_female_4_noise.wav', 'speech_digits/4/hfc_male_4_shift.wav', 'speech_digits/4/arctic_4_original.wav', 'speech_digits/4/hfc_male_4_original.wav', 'speech_digits/4/l2arctic_4_stretch.wav', 'speech_digits/4/kathleen_4_pitch.wav', 'speech_digits/4/ljspeech_4_shift.wav', 'speech_digits/4/amy_4_shift.wav', 'speech_digits/4/ryan_4_original.wav', 'speech_digits/4/norman_4_shift.wav', 'speech_digits/4/kusal_4_original.wav', 'speech_digits/4/danny_4_pitch.wav', 'speech_digits/4/norman_4_stretch.wav', 'speech_digits/4/kusal_4_noise.wav', 'speech_digits/4/arctic_4_pitch.wav', 'speech_digits/4/hfc_male_4_pitch.wav', 'speech_digits/4/bryce_4_stretch.wav', 'speech_digits/4/libritts_r_4_original.wav', 'speech_digits/4/l2arctic_4_noise.wav', 'speech_digits/4/libritts_r_4_pitch.wav', 'speech_digits/4/amy_4_noise.wav', 'speech_digits/4/amy_4_stretch.wav', 'speech_digits/4/joe_4_original.wav', 'speech_digits/4/amy_4_pitch.wav', 'speech_digits/4/kusal_4_shift.wav', 'speech_digits/4/lessac_4_original.wav', 'speech_digits/4/ryan_4_shift.wav', 'speech_digits/4/hfc_female_4_original.wav', 'speech_digits/4/kristin_4_shift.wav', 'speech_digits/4/hfc_female_4_pitch.wav', 'speech_digits/4/kristin_4_noise.wav', 'speech_digits/4/kristin_4_stretch.wav', 'speech_digits/4/arctic_4_noise.wav', 'speech_digits/4/john_4_original.wav', 'speech_digits/4/kristin_4_pitch.wav', 'speech_digits/4/joe_4_stretch.wav', 'speech_digits/4/kristin_4_original.wav', 'speech_digits/4/ryan_4_pitch.wav', 'speech_digits/4/ljspeech_4_pitch.wav', 'speech_digits/4/libritts_4_shift.wav', 'speech_digits/4/l2arctic_4_shift.wav', 'speech_digits/4/ryan_4_noise.wav', 'speech_digits/4/bryce_4_pitch.wav', 'speech_digits/4/ljspeech_4_original.wav', 'speech_digits/4/libritts_4_original.wav', 'speech_digits/4/kathleen_4_original.wav', 'speech_digits/4/hfc_female_4_stretch.wav', 'speech_digits/4/libritts_r_4_noise.wav', 'speech_digits/4/amy_4_original.wav', 'speech_digits/4/l2arctic_4_pitch.wav', 'speech_digits/4/john_4_pitch.wav', 'speech_digits/4/kusal_4_pitch.wav', 'speech_digits/4/libritts_4_pitch.wav', 'speech_digits/4/kathleen_4_shift.wav', 'speech_digits/4/joe_4_pitch.wav', 'speech_digits/4/arctic_4_stretch.wav', 'speech_digits/4/libritts_4_stretch.wav', 'speech_digits/4/lessac_4_stretch.wav', 'speech_digits/4/joe_4_noise.wav', 'speech_digits/4/ljspeech_4_noise.wav', 'speech_digits/7/hfc_male_7_pitch.wav', 'speech_digits/7/kusal_7_stretch.wav', 'speech_digits/7/libritts_r_7_pitch.wav', 'speech_digits/7/ljspeech_7_stretch.wav', 'speech_digits/7/lessac_7_noise.wav', 'speech_digits/7/john_7_noise.wav', 'speech_digits/7/kathleen_7_shift.wav', 'speech_digits/7/libritts_r_7_original.wav', 'speech_digits/7/hfc_male_7_original.wav', 'speech_digits/7/kristin_7_noise.wav', 'speech_digits/7/danny_7_stretch.wav', 'speech_digits/7/bryce_7_pitch.wav', 'speech_digits/7/hfc_female_7_original.wav', 'speech_digits/7/l2arctic_7_shift.wav', 'speech_digits/7/l2arctic_7_stretch.wav', 'speech_digits/7/john_7_original.wav', 'speech_digits/7/ljspeech_7_noise.wav', 'speech_digits/7/norman_7_original.wav', 'speech_digits/7/norman_7_shift.wav', 'speech_digits/7/john_7_shift.wav', 'speech_digits/7/libritts_7_stretch.wav', 'speech_digits/7/john_7_pitch.wav', 'speech_digits/7/arctic_7_original.wav', 'speech_digits/7/kristin_7_original.wav', 'speech_digits/7/joe_7_noise.wav', 'speech_digits/7/bryce_7_stretch.wav', 'speech_digits/7/amy_7_pitch.wav', 'speech_digits/7/libritts_7_pitch.wav', 'speech_digits/7/ryan_7_noise.wav', 'speech_digits/7/norman_7_pitch.wav', 'speech_digits/7/joe_7_shift.wav', 'speech_digits/7/hfc_female_7_pitch.wav', 'speech_digits/7/libritts_r_7_stretch.wav', 'speech_digits/7/kathleen_7_pitch.wav', 'speech_digits/7/amy_7_noise.wav', 'speech_digits/7/l2arctic_7_noise.wav', 'speech_digits/7/kusal_7_noise.wav', 'speech_digits/7/ljspeech_7_original.wav', 'speech_digits/7/libritts_r_7_shift.wav', 'speech_digits/7/kathleen_7_stretch.wav', 'speech_digits/7/libritts_7_noise.wav', 'speech_digits/7/hfc_female_7_stretch.wav', 'speech_digits/7/danny_7_original.wav', 'speech_digits/7/amy_7_original.wav', 'speech_digits/7/amy_7_stretch.wav', 'speech_digits/7/kusal_7_pitch.wav', 'speech_digits/7/hfc_female_7_shift.wav', 'speech_digits/7/ryan_7_pitch.wav', 'speech_digits/7/joe_7_stretch.wav', 'speech_digits/7/amy_7_shift.wav', 'speech_digits/7/danny_7_shift.wav', 'speech_digits/7/lessac_7_stretch.wav', 'speech_digits/7/norman_7_stretch.wav', 'speech_digits/7/bryce_7_noise.wav', 'speech_digits/7/arctic_7_stretch.wav', 'speech_digits/7/ryan_7_shift.wav', 'speech_digits/7/libritts_7_shift.wav', 'speech_digits/7/kristin_7_pitch.wav', 'speech_digits/7/lessac_7_original.wav', 'speech_digits/7/john_7_stretch.wav', 'speech_digits/7/joe_7_pitch.wav', 'speech_digits/7/kusal_7_original.wav', 'speech_digits/7/kathleen_7_original.wav', 'speech_digits/7/kathleen_7_noise.wav', 'speech_digits/7/kristin_7_stretch.wav', 'speech_digits/7/lessac_7_pitch.wav', 'speech_digits/7/ryan_7_stretch.wav', 'speech_digits/7/libritts_r_7_noise.wav', 'speech_digits/7/arctic_7_pitch.wav', 'speech_digits/7/bryce_7_shift.wav', 'speech_digits/7/hfc_male_7_stretch.wav', 'speech_digits/7/danny_7_pitch.wav', 'speech_digits/7/l2arctic_7_pitch.wav', 'speech_digits/7/bryce_7_original.wav', 'speech_digits/7/joe_7_original.wav', 'speech_digits/7/arctic_7_noise.wav', 'speech_digits/7/ryan_7_original.wav', 'speech_digits/7/kusal_7_shift.wav', 'speech_digits/7/ljspeech_7_shift.wav', 'speech_digits/7/kristin_7_shift.wav', 'speech_digits/7/danny_7_noise.wav', 'speech_digits/7/hfc_male_7_noise.wav', 'speech_digits/7/hfc_male_7_shift.wav', 'speech_digits/7/arctic_7_shift.wav', 'speech_digits/7/norman_7_noise.wav', 'speech_digits/7/hfc_female_7_noise.wav', 'speech_digits/7/libritts_7_original.wav', 'speech_digits/7/ljspeech_7_pitch.wav', 'speech_digits/7/lessac_7_shift.wav', 'speech_digits/7/l2arctic_7_original.wav', 'speech_digits/0/hfc_male_0_stretch.wav', 'speech_digits/0/kathleen_0_original.wav', 'speech_digits/0/hfc_female_0_original.wav', 'speech_digits/0/hfc_female_0_stretch.wav', 'speech_digits/0/bryce_0_noise.wav', 'speech_digits/0/ljspeech_0_original.wav', 'speech_digits/0/hfc_male_0_pitch.wav', 'speech_digits/0/norman_0_pitch.wav', 'speech_digits/0/kristin_0_noise.wav', 'speech_digits/0/kusal_0_stretch.wav', 'speech_digits/0/john_0_original.wav', 'speech_digits/0/libritts_r_0_noise.wav', 'speech_digits/0/kathleen_0_pitch.wav', 'speech_digits/0/hfc_male_0_original.wav', 'speech_digits/0/ljspeech_0_pitch.wav', 'speech_digits/0/kusal_0_original.wav', 'speech_digits/0/ryan_0_stretch.wav', 'speech_digits/0/joe_0_noise.wav', 'speech_digits/0/arctic_0_shift.wav', 'speech_digits/0/kusal_0_shift.wav', 'speech_digits/0/ryan_0_noise.wav', 'speech_digits/0/john_0_noise.wav', 'speech_digits/0/kathleen_0_noise.wav', 'speech_digits/0/libritts_0_pitch.wav', 'speech_digits/0/amy_0_stretch.wav', 'speech_digits/0/l2arctic_0_shift.wav', 'speech_digits/0/lessac_0_noise.wav', 'speech_digits/0/hfc_female_0_pitch.wav', 'speech_digits/0/libritts_r_0_pitch.wav', 'speech_digits/0/hfc_male_0_shift.wav', 'speech_digits/0/ryan_0_original.wav', 'speech_digits/0/kusal_0_pitch.wav', 'speech_digits/0/bryce_0_shift.wav', 'speech_digits/0/l2arctic_0_stretch.wav', 'speech_digits/0/hfc_female_0_noise.wav', 'speech_digits/0/lessac_0_stretch.wav', 'speech_digits/0/danny_0_stretch.wav', 'speech_digits/0/norman_0_original.wav', 'speech_digits/0/l2arctic_0_original.wav', 'speech_digits/0/danny_0_shift.wav', 'speech_digits/0/libritts_0_stretch.wav', 'speech_digits/0/amy_0_noise.wav', 'speech_digits/0/kathleen_0_shift.wav', 'speech_digits/0/john_0_pitch.wav', 'speech_digits/0/lessac_0_pitch.wav', 'speech_digits/0/lessac_0_original.wav', 'speech_digits/0/kusal_0_noise.wav', 'speech_digits/0/bryce_0_original.wav', 'speech_digits/0/amy_0_shift.wav', 'speech_digits/0/john_0_stretch.wav', 'speech_digits/0/l2arctic_0_pitch.wav', 'speech_digits/0/libritts_0_shift.wav', 'speech_digits/0/norman_0_stretch.wav', 'speech_digits/0/libritts_0_noise.wav', 'speech_digits/0/amy_0_original.wav', 'speech_digits/0/ljspeech_0_noise.wav', 'speech_digits/0/kathleen_0_stretch.wav', 'speech_digits/0/libritts_r_0_stretch.wav', 'speech_digits/0/lessac_0_shift.wav', 'speech_digits/0/amy_0_pitch.wav', 'speech_digits/0/john_0_shift.wav', 'speech_digits/0/joe_0_stretch.wav', 'speech_digits/0/bryce_0_stretch.wav', 'speech_digits/0/ljspeech_0_stretch.wav', 'speech_digits/0/arctic_0_noise.wav', 'speech_digits/0/hfc_female_0_shift.wav', 'speech_digits/0/joe_0_pitch.wav', 'speech_digits/0/norman_0_shift.wav', 'speech_digits/0/kristin_0_shift.wav', 'speech_digits/0/norman_0_noise.wav', 'speech_digits/0/libritts_0_original.wav', 'speech_digits/0/libritts_r_0_original.wav', 'speech_digits/0/joe_0_original.wav', 'speech_digits/0/hfc_male_0_noise.wav', 'speech_digits/0/kristin_0_stretch.wav', 'speech_digits/0/arctic_0_stretch.wav', 'speech_digits/0/ryan_0_shift.wav', 'speech_digits/0/kristin_0_original.wav', 'speech_digits/0/arctic_0_original.wav', 'speech_digits/0/libritts_r_0_shift.wav', 'speech_digits/0/arctic_0_pitch.wav', 'speech_digits/0/l2arctic_0_noise.wav', 'speech_digits/0/danny_0_pitch.wav', 'speech_digits/0/bryce_0_pitch.wav', 'speech_digits/0/danny_0_original.wav', 'speech_digits/0/kristin_0_pitch.wav', 'speech_digits/0/ljspeech_0_shift.wav', 'speech_digits/0/joe_0_shift.wav', 'speech_digits/0/danny_0_noise.wav', 'speech_digits/0/ryan_0_pitch.wav', 'speech_digits/1/libritts_1_noise.wav', 'speech_digits/1/bryce_1_stretch.wav', 'speech_digits/1/kusal_1_shift.wav', 'speech_digits/1/kristin_1_stretch.wav', 'speech_digits/1/ljspeech_1_noise.wav', 'speech_digits/1/hfc_male_1_shift.wav', 'speech_digits/1/ljspeech_1_stretch.wav', 'speech_digits/1/hfc_female_1_stretch.wav', 'speech_digits/1/arctic_1_shift.wav', 'speech_digits/1/amy_1_shift.wav', 'speech_digits/1/kusal_1_noise.wav', 'speech_digits/1/kristin_1_noise.wav', 'speech_digits/1/kathleen_1_noise.wav', 'speech_digits/1/arctic_1_original.wav', 'speech_digits/1/danny_1_pitch.wav', 'speech_digits/1/libritts_r_1_original.wav', 'speech_digits/1/norman_1_noise.wav', 'speech_digits/1/libritts_r_1_pitch.wav', 'speech_digits/1/kusal_1_original.wav', 'speech_digits/1/l2arctic_1_stretch.wav', 'speech_digits/1/libritts_r_1_noise.wav', 'speech_digits/1/kathleen_1_shift.wav', 'speech_digits/1/lessac_1_shift.wav', 'speech_digits/1/bryce_1_original.wav', 'speech_digits/1/danny_1_stretch.wav', 'speech_digits/1/hfc_female_1_pitch.wav', 'speech_digits/1/kathleen_1_pitch.wav', 'speech_digits/1/kristin_1_shift.wav', 'speech_digits/1/kathleen_1_original.wav', 'speech_digits/1/libritts_r_1_stretch.wav', 'speech_digits/1/hfc_male_1_noise.wav', 'speech_digits/1/arctic_1_noise.wav', 'speech_digits/1/john_1_original.wav', 'speech_digits/1/ljspeech_1_original.wav', 'speech_digits/1/lessac_1_original.wav', 'speech_digits/1/libritts_1_shift.wav', 'speech_digits/1/kathleen_1_stretch.wav', 'speech_digits/1/norman_1_original.wav', 'speech_digits/1/ljspeech_1_pitch.wav', 'speech_digits/1/kristin_1_pitch.wav', 'speech_digits/1/bryce_1_pitch.wav', 'speech_digits/1/ryan_1_pitch.wav', 'speech_digits/1/libritts_1_original.wav', 'speech_digits/1/norman_1_stretch.wav', 'speech_digits/1/danny_1_original.wav', 'speech_digits/1/ryan_1_noise.wav', 'speech_digits/1/arctic_1_pitch.wav', 'speech_digits/1/lessac_1_stretch.wav', 'speech_digits/1/arctic_1_stretch.wav', 'speech_digits/1/kristin_1_original.wav', 'speech_digits/1/kusal_1_stretch.wav', 'speech_digits/1/l2arctic_1_original.wav', 'speech_digits/1/john_1_shift.wav', 'speech_digits/1/danny_1_noise.wav', 'speech_digits/1/amy_1_stretch.wav', 'speech_digits/1/john_1_pitch.wav', 'speech_digits/1/joe_1_shift.wav', 'speech_digits/1/norman_1_shift.wav', 'speech_digits/1/ryan_1_stretch.wav', 'speech_digits/1/ryan_1_original.wav', 'speech_digits/1/l2arctic_1_shift.wav', 'speech_digits/1/ljspeech_1_shift.wav', 'speech_digits/1/hfc_male_1_pitch.wav', 'speech_digits/1/hfc_female_1_noise.wav', 'speech_digits/1/john_1_stretch.wav', 'speech_digits/1/hfc_female_1_shift.wav', 'speech_digits/1/amy_1_original.wav', 'speech_digits/1/hfc_male_1_original.wav', 'speech_digits/1/joe_1_stretch.wav', 'speech_digits/1/hfc_female_1_original.wav', 'speech_digits/1/joe_1_noise.wav', 'speech_digits/1/libritts_1_pitch.wav', 'speech_digits/1/l2arctic_1_noise.wav', 'speech_digits/1/bryce_1_shift.wav', 'speech_digits/1/joe_1_pitch.wav', 'speech_digits/1/libritts_r_1_shift.wav', 'speech_digits/1/norman_1_pitch.wav', 'speech_digits/1/lessac_1_pitch.wav', 'speech_digits/1/libritts_1_stretch.wav', 'speech_digits/1/l2arctic_1_pitch.wav', 'speech_digits/1/joe_1_original.wav', 'speech_digits/1/amy_1_pitch.wav', 'speech_digits/1/amy_1_noise.wav', 'speech_digits/1/ryan_1_shift.wav', 'speech_digits/1/bryce_1_noise.wav', 'speech_digits/1/danny_1_shift.wav', 'speech_digits/1/hfc_male_1_stretch.wav', 'speech_digits/1/kusal_1_pitch.wav', 'speech_digits/1/lessac_1_noise.wav', 'speech_digits/1/john_1_noise.wav', 'speech_digits/6/lessac_6_stretch.wav', 'speech_digits/6/danny_6_pitch.wav', 'speech_digits/6/l2arctic_6_pitch.wav', 'speech_digits/6/lessac_6_pitch.wav', 'speech_digits/6/bryce_6_noise.wav', 'speech_digits/6/bryce_6_shift.wav', 'speech_digits/6/norman_6_pitch.wav', 'speech_digits/6/ryan_6_pitch.wav', 'speech_digits/6/ljspeech_6_noise.wav', 'speech_digits/6/hfc_male_6_stretch.wav', 'speech_digits/6/amy_6_original.wav', 'speech_digits/6/hfc_female_6_noise.wav', 'speech_digits/6/ljspeech_6_original.wav', 'speech_digits/6/hfc_male_6_noise.wav', 'speech_digits/6/l2arctic_6_noise.wav', 'speech_digits/6/john_6_stretch.wav', 'speech_digits/6/hfc_male_6_shift.wav', 'speech_digits/6/kristin_6_original.wav', 'speech_digits/6/john_6_noise.wav', 'speech_digits/6/norman_6_stretch.wav', 'speech_digits/6/danny_6_original.wav', 'speech_digits/6/ljspeech_6_stretch.wav', 'speech_digits/6/hfc_female_6_pitch.wav', 'speech_digits/6/danny_6_noise.wav', 'speech_digits/6/arctic_6_shift.wav', 'speech_digits/6/libritts_6_noise.wav', 'speech_digits/6/kathleen_6_original.wav', 'speech_digits/6/john_6_shift.wav', 'speech_digits/6/kristin_6_stretch.wav', 'speech_digits/6/bryce_6_original.wav', 'speech_digits/6/kathleen_6_noise.wav', 'speech_digits/6/libritts_r_6_original.wav', 'speech_digits/6/arctic_6_pitch.wav', 'speech_digits/6/norman_6_shift.wav', 'speech_digits/6/kusal_6_noise.wav', 'speech_digits/6/kusal_6_pitch.wav', 'speech_digits/6/hfc_male_6_original.wav', 'speech_digits/6/norman_6_original.wav', 'speech_digits/6/kathleen_6_shift.wav', 'speech_digits/6/amy_6_shift.wav', 'speech_digits/6/hfc_female_6_original.wav', 'speech_digits/6/john_6_pitch.wav', 'speech_digits/6/amy_6_noise.wav', 'speech_digits/6/norman_6_noise.wav', 'speech_digits/6/ljspeech_6_pitch.wav', 'speech_digits/6/danny_6_stretch.wav', 'speech_digits/6/joe_6_stretch.wav', 'speech_digits/6/kathleen_6_pitch.wav', 'speech_digits/6/john_6_original.wav', 'speech_digits/6/lessac_6_noise.wav', 'speech_digits/6/libritts_6_shift.wav', 'speech_digits/6/libritts_r_6_pitch.wav', 'speech_digits/6/hfc_female_6_stretch.wav', 'speech_digits/6/kusal_6_stretch.wav', 'speech_digits/6/kusal_6_original.wav', 'speech_digits/6/arctic_6_original.wav', 'speech_digits/6/libritts_6_pitch.wav', 'speech_digits/6/l2arctic_6_shift.wav', 'speech_digits/6/arctic_6_stretch.wav', 'speech_digits/6/lessac_6_shift.wav', 'speech_digits/6/libritts_r_6_shift.wav', 'speech_digits/6/libritts_6_stretch.wav', 'speech_digits/6/bryce_6_stretch.wav', 'speech_digits/6/ryan_6_noise.wav', 'speech_digits/6/ryan_6_shift.wav', 'speech_digits/6/bryce_6_pitch.wav', 'speech_digits/6/kristin_6_noise.wav', 'speech_digits/6/kusal_6_shift.wav', 'speech_digits/6/amy_6_stretch.wav', 'speech_digits/6/arctic_6_noise.wav', 'speech_digits/6/kathleen_6_stretch.wav', 'speech_digits/6/joe_6_original.wav', 'speech_digits/6/joe_6_shift.wav', 'speech_digits/6/amy_6_pitch.wav', 'speech_digits/6/ryan_6_original.wav', 'speech_digits/6/joe_6_pitch.wav', 'speech_digits/6/libritts_6_original.wav', 'speech_digits/6/hfc_female_6_shift.wav', 'speech_digits/6/lessac_6_original.wav', 'speech_digits/6/kristin_6_pitch.wav', 'speech_digits/6/libritts_r_6_stretch.wav', 'speech_digits/6/ljspeech_6_shift.wav', 'speech_digits/6/kristin_6_shift.wav', 'speech_digits/6/joe_6_noise.wav', 'speech_digits/6/l2arctic_6_stretch.wav', 'speech_digits/6/danny_6_shift.wav', 'speech_digits/6/l2arctic_6_original.wav', 'speech_digits/6/hfc_male_6_pitch.wav', 'speech_digits/6/ryan_6_stretch.wav', 'speech_digits/6/libritts_r_6_noise.wav', 'speech_digits/9/john_9_pitch.wav', 'speech_digits/9/kristin_9_stretch.wav', 'speech_digits/9/libritts_r_9_pitch.wav', 'speech_digits/9/amy_9_shift.wav', 'speech_digits/9/joe_9_noise.wav', 'speech_digits/9/l2arctic_9_original.wav', 'speech_digits/9/amy_9_pitch.wav', 'speech_digits/9/joe_9_shift.wav', 'speech_digits/9/ljspeech_9_shift.wav', 'speech_digits/9/ryan_9_stretch.wav', 'speech_digits/9/kusal_9_shift.wav', 'speech_digits/9/hfc_male_9_stretch.wav', 'speech_digits/9/libritts_9_original.wav', 'speech_digits/9/hfc_female_9_stretch.wav', 'speech_digits/9/kusal_9_noise.wav', 'speech_digits/9/lessac_9_shift.wav', 'speech_digits/9/libritts_r_9_shift.wav', 'speech_digits/9/norman_9_stretch.wav', 'speech_digits/9/bryce_9_shift.wav', 'speech_digits/9/bryce_9_original.wav', 'speech_digits/9/kathleen_9_original.wav', 'speech_digits/9/danny_9_shift.wav', 'speech_digits/9/john_9_noise.wav', 'speech_digits/9/joe_9_stretch.wav', 'speech_digits/9/libritts_r_9_original.wav', 'speech_digits/9/kusal_9_stretch.wav', 'speech_digits/9/kristin_9_pitch.wav', 'speech_digits/9/norman_9_shift.wav', 'speech_digits/9/amy_9_stretch.wav', 'speech_digits/9/lessac_9_noise.wav', 'speech_digits/9/arctic_9_stretch.wav', 'speech_digits/9/hfc_male_9_noise.wav', 'speech_digits/9/libritts_9_shift.wav', 'speech_digits/9/danny_9_noise.wav', 'speech_digits/9/danny_9_pitch.wav', 'speech_digits/9/kristin_9_shift.wav', 'speech_digits/9/libritts_9_noise.wav', 'speech_digits/9/l2arctic_9_noise.wav', 'speech_digits/9/kusal_9_pitch.wav', 'speech_digits/9/hfc_female_9_shift.wav', 'speech_digits/9/ljspeech_9_original.wav', 'speech_digits/9/amy_9_noise.wav', 'speech_digits/9/kathleen_9_shift.wav', 'speech_digits/9/l2arctic_9_pitch.wav', 'speech_digits/9/ryan_9_shift.wav', 'speech_digits/9/danny_9_original.wav', 'speech_digits/9/libritts_9_pitch.wav', 'speech_digits/9/lessac_9_pitch.wav', 'speech_digits/9/norman_9_pitch.wav', 'speech_digits/9/john_9_stretch.wav', 'speech_digits/9/danny_9_stretch.wav', 'speech_digits/9/lessac_9_original.wav', 'speech_digits/9/l2arctic_9_shift.wav', 'speech_digits/9/libritts_9_stretch.wav', 'speech_digits/9/ryan_9_pitch.wav', 'speech_digits/9/lessac_9_stretch.wav', 'speech_digits/9/arctic_9_original.wav', 'speech_digits/9/norman_9_noise.wav', 'speech_digits/9/arctic_9_pitch.wav', 'speech_digits/9/john_9_shift.wav', 'speech_digits/9/arctic_9_shift.wav', 'speech_digits/9/libritts_r_9_noise.wav', 'speech_digits/9/kathleen_9_noise.wav', 'speech_digits/9/kusal_9_original.wav', 'speech_digits/9/hfc_male_9_shift.wav', 'speech_digits/9/ljspeech_9_pitch.wav', 'speech_digits/9/kristin_9_original.wav', 'speech_digits/9/kathleen_9_stretch.wav', 'speech_digits/9/ryan_9_original.wav', 'speech_digits/9/hfc_male_9_original.wav', 'speech_digits/9/bryce_9_noise.wav', 'speech_digits/9/bryce_9_stretch.wav', 'speech_digits/9/hfc_female_9_original.wav', 'speech_digits/9/libritts_r_9_stretch.wav', 'speech_digits/9/arctic_9_noise.wav', 'speech_digits/9/ljspeech_9_stretch.wav', 'speech_digits/9/kathleen_9_pitch.wav', 'speech_digits/9/kristin_9_noise.wav', 'speech_digits/9/ljspeech_9_noise.wav', 'speech_digits/9/amy_9_original.wav', 'speech_digits/9/hfc_female_9_noise.wav', 'speech_digits/9/bryce_9_pitch.wav', 'speech_digits/9/ryan_9_noise.wav', 'speech_digits/9/joe_9_pitch.wav', 'speech_digits/9/norman_9_original.wav', 'speech_digits/9/joe_9_original.wav', 'speech_digits/9/hfc_male_9_pitch.wav', 'speech_digits/9/l2arctic_9_stretch.wav', 'speech_digits/9/hfc_female_9_pitch.wav', 'speech_digits/9/john_9_original.wav', 'speech_digits/2/amy_2_original.wav', 'speech_digits/2/hfc_male_2_pitch.wav', 'speech_digits/2/libritts_2_stretch.wav', 'speech_digits/2/kathleen_2_original.wav', 'speech_digits/2/hfc_male_2_shift.wav', 'speech_digits/2/kristin_2_pitch.wav', 'speech_digits/2/lessac_2_shift.wav', 'speech_digits/2/bryce_2_noise.wav', 'speech_digits/2/john_2_stretch.wav', 'speech_digits/2/joe_2_shift.wav', 'speech_digits/2/danny_2_pitch.wav', 'speech_digits/2/ljspeech_2_shift.wav', 'speech_digits/2/arctic_2_shift.wav', 'speech_digits/2/lessac_2_noise.wav', 'speech_digits/2/hfc_female_2_pitch.wav', 'speech_digits/2/libritts_2_shift.wav', 'speech_digits/2/amy_2_stretch.wav', 'speech_digits/2/bryce_2_pitch.wav', 'speech_digits/2/john_2_pitch.wav', 'speech_digits/2/hfc_male_2_original.wav', 'speech_digits/2/l2arctic_2_pitch.wav', 'speech_digits/2/arctic_2_pitch.wav', 'speech_digits/2/kathleen_2_pitch.wav', 'speech_digits/2/libritts_r_2_shift.wav', 'speech_digits/2/libritts_2_pitch.wav', 'speech_digits/2/kusal_2_noise.wav', 'speech_digits/2/bryce_2_shift.wav', 'speech_digits/2/john_2_shift.wav', 'speech_digits/2/lessac_2_original.wav', 'speech_digits/2/john_2_noise.wav', 'speech_digits/2/danny_2_noise.wav', 'speech_digits/2/bryce_2_stretch.wav', 'speech_digits/2/danny_2_shift.wav', 'speech_digits/2/kusal_2_shift.wav', 'speech_digits/2/kusal_2_pitch.wav', 'speech_digits/2/hfc_female_2_original.wav', 'speech_digits/2/l2arctic_2_shift.wav', 'speech_digits/2/kathleen_2_stretch.wav', 'speech_digits/2/kristin_2_original.wav', 'speech_digits/2/l2arctic_2_original.wav', 'speech_digits/2/norman_2_stretch.wav', 'speech_digits/2/libritts_r_2_noise.wav', 'speech_digits/2/norman_2_noise.wav', 'speech_digits/2/ryan_2_noise.wav', 'speech_digits/2/libritts_r_2_stretch.wav', 'speech_digits/2/hfc_male_2_noise.wav', 'speech_digits/2/joe_2_noise.wav', 'speech_digits/2/danny_2_stretch.wav', 'speech_digits/2/arctic_2_original.wav', 'speech_digits/2/arctic_2_stretch.wav', 'speech_digits/2/ryan_2_stretch.wav', 'speech_digits/2/norman_2_original.wav', 'speech_digits/2/libritts_r_2_pitch.wav', 'speech_digits/2/kristin_2_stretch.wav', 'speech_digits/2/kathleen_2_shift.wav', 'speech_digits/2/lessac_2_pitch.wav', 'speech_digits/2/hfc_female_2_shift.wav', 'speech_digits/2/l2arctic_2_stretch.wav', 'speech_digits/2/joe_2_stretch.wav', 'speech_digits/2/danny_2_original.wav', 'speech_digits/2/ljspeech_2_stretch.wav', 'speech_digits/2/ryan_2_pitch.wav', 'speech_digits/2/arctic_2_noise.wav', 'speech_digits/2/bryce_2_original.wav', 'speech_digits/2/ljspeech_2_pitch.wav', 'speech_digits/2/amy_2_pitch.wav', 'speech_digits/2/libritts_2_original.wav', 'speech_digits/2/hfc_female_2_stretch.wav', 'speech_digits/2/norman_2_pitch.wav', 'speech_digits/2/ryan_2_original.wav', 'speech_digits/2/libritts_r_2_original.wav', 'speech_digits/2/norman_2_shift.wav', 'speech_digits/2/hfc_female_2_noise.wav', 'speech_digits/2/amy_2_noise.wav', 'speech_digits/2/kristin_2_shift.wav', 'speech_digits/2/kusal_2_stretch.wav', 'speech_digits/2/john_2_original.wav', 'speech_digits/2/ryan_2_shift.wav', 'speech_digits/2/ljspeech_2_noise.wav', 'speech_digits/2/amy_2_shift.wav', 'speech_digits/2/l2arctic_2_noise.wav', 'speech_digits/2/joe_2_pitch.wav', 'speech_digits/2/kathleen_2_noise.wav', 'speech_digits/2/libritts_2_noise.wav', 'speech_digits/2/ljspeech_2_original.wav', 'speech_digits/2/kusal_2_original.wav', 'speech_digits/2/lessac_2_stretch.wav', 'speech_digits/2/joe_2_original.wav', 'speech_digits/2/kristin_2_noise.wav', 'speech_digits/2/hfc_male_2_stretch.wav', 'speech_digits/3/joe_3_noise.wav', 'speech_digits/3/hfc_male_3_noise.wav', 'speech_digits/3/hfc_male_3_pitch.wav', 'speech_digits/3/l2arctic_3_shift.wav', 'speech_digits/3/libritts_3_noise.wav', 'speech_digits/3/joe_3_shift.wav', 'speech_digits/3/hfc_female_3_noise.wav', 'speech_digits/3/ljspeech_3_pitch.wav', 'speech_digits/3/ljspeech_3_noise.wav', 'speech_digits/3/kusal_3_original.wav', 'speech_digits/3/bryce_3_noise.wav', 'speech_digits/3/norman_3_shift.wav', 'speech_digits/3/amy_3_pitch.wav', 'speech_digits/3/joe_3_original.wav', 'speech_digits/3/hfc_female_3_pitch.wav', 'speech_digits/3/kusal_3_noise.wav', 'speech_digits/3/joe_3_stretch.wav', 'speech_digits/3/ryan_3_pitch.wav', 'speech_digits/3/arctic_3_original.wav', 'speech_digits/3/norman_3_noise.wav', 'speech_digits/3/hfc_female_3_original.wav', 'speech_digits/3/arctic_3_stretch.wav', 'speech_digits/3/libritts_r_3_original.wav', 'speech_digits/3/norman_3_original.wav', 'speech_digits/3/ljspeech_3_stretch.wav', 'speech_digits/3/hfc_female_3_stretch.wav', 'speech_digits/3/kusal_3_shift.wav', 'speech_digits/3/kathleen_3_noise.wav', 'speech_digits/3/hfc_male_3_shift.wav', 'speech_digits/3/ljspeech_3_shift.wav', 'speech_digits/3/kristin_3_original.wav', 'speech_digits/3/bryce_3_shift.wav', 'speech_digits/3/amy_3_stretch.wav', 'speech_digits/3/l2arctic_3_original.wav', 'speech_digits/3/kathleen_3_pitch.wav', 'speech_digits/3/arctic_3_shift.wav', 'speech_digits/3/kathleen_3_original.wav', 'speech_digits/3/lessac_3_shift.wav', 'speech_digits/3/danny_3_shift.wav', 'speech_digits/3/lessac_3_pitch.wav', 'speech_digits/3/libritts_3_pitch.wav', 'speech_digits/3/lessac_3_original.wav', 'speech_digits/3/john_3_original.wav', 'speech_digits/3/hfc_male_3_stretch.wav', 'speech_digits/3/danny_3_pitch.wav', 'speech_digits/3/ryan_3_noise.wav', 'speech_digits/3/danny_3_original.wav', 'speech_digits/3/libritts_r_3_pitch.wav', 'speech_digits/3/kristin_3_pitch.wav', 'speech_digits/3/lessac_3_noise.wav', 'speech_digits/3/amy_3_original.wav', 'speech_digits/3/bryce_3_original.wav', 'speech_digits/3/kristin_3_shift.wav', 'speech_digits/3/kristin_3_stretch.wav', 'speech_digits/3/libritts_r_3_stretch.wav', 'speech_digits/3/danny_3_noise.wav', 'speech_digits/3/ljspeech_3_original.wav', 'speech_digits/3/bryce_3_pitch.wav', 'speech_digits/3/libritts_3_shift.wav', 'speech_digits/3/joe_3_pitch.wav', 'speech_digits/3/ryan_3_stretch.wav', 'speech_digits/3/kristin_3_noise.wav', 'speech_digits/3/hfc_male_3_original.wav', 'speech_digits/3/john_3_pitch.wav', 'speech_digits/3/kusal_3_stretch.wav', 'speech_digits/3/danny_3_stretch.wav', 'speech_digits/3/kusal_3_pitch.wav', 'speech_digits/3/lessac_3_stretch.wav', 'speech_digits/3/bryce_3_stretch.wav', 'speech_digits/3/libritts_r_3_noise.wav', 'speech_digits/3/amy_3_shift.wav', 'speech_digits/3/l2arctic_3_stretch.wav', 'speech_digits/3/ryan_3_shift.wav', 'speech_digits/3/ryan_3_original.wav', 'speech_digits/3/l2arctic_3_noise.wav', 'speech_digits/3/norman_3_stretch.wav', 'speech_digits/3/libritts_3_original.wav', 'speech_digits/3/arctic_3_noise.wav', 'speech_digits/3/kathleen_3_stretch.wav', 'speech_digits/3/libritts_r_3_shift.wav', 'speech_digits/3/john_3_shift.wav', 'speech_digits/3/libritts_3_stretch.wav', 'speech_digits/3/l2arctic_3_pitch.wav', 'speech_digits/3/arctic_3_pitch.wav', 'speech_digits/3/john_3_noise.wav', 'speech_digits/3/amy_3_noise.wav', 'speech_digits/3/kathleen_3_shift.wav', 'speech_digits/3/norman_3_pitch.wav', 'speech_digits/3/hfc_female_3_shift.wav', 'speech_digits/3/john_3_stretch.wav', 'speech_digits/5/hfc_male_5_pitch.wav', 'speech_digits/5/joe_5_pitch.wav', 'speech_digits/5/kusal_5_shift.wav', 'speech_digits/5/hfc_female_5_noise.wav', 'speech_digits/5/danny_5_pitch.wav', 'speech_digits/5/libritts_r_5_pitch.wav', 'speech_digits/5/kusal_5_stretch.wav', 'speech_digits/5/ryan_5_pitch.wav', 'speech_digits/5/john_5_shift.wav', 'speech_digits/5/lessac_5_stretch.wav', 'speech_digits/5/libritts_r_5_noise.wav', 'speech_digits/5/norman_5_stretch.wav', 'speech_digits/5/amy_5_stretch.wav', 'speech_digits/5/kristin_5_stretch.wav', 'speech_digits/5/kristin_5_noise.wav', 'speech_digits/5/amy_5_noise.wav', 'speech_digits/5/danny_5_noise.wav', 'speech_digits/5/norman_5_original.wav', 'speech_digits/5/ryan_5_noise.wav', 'speech_digits/5/bryce_5_original.wav', 'speech_digits/5/bryce_5_stretch.wav', 'speech_digits/5/libritts_5_pitch.wav', 'speech_digits/5/danny_5_original.wav', 'speech_digits/5/l2arctic_5_stretch.wav', 'speech_digits/5/lessac_5_original.wav', 'speech_digits/5/norman_5_noise.wav', 'speech_digits/5/hfc_male_5_noise.wav', 'speech_digits/5/l2arctic_5_pitch.wav', 'speech_digits/5/norman_5_shift.wav', 'speech_digits/5/lessac_5_pitch.wav', 'speech_digits/5/bryce_5_shift.wav', 'speech_digits/5/arctic_5_pitch.wav', 'speech_digits/5/kusal_5_original.wav', 'speech_digits/5/joe_5_original.wav', 'speech_digits/5/joe_5_stretch.wav', 'speech_digits/5/john_5_original.wav', 'speech_digits/5/ljspeech_5_noise.wav', 'speech_digits/5/danny_5_stretch.wav', 'speech_digits/5/arctic_5_noise.wav', 'speech_digits/5/hfc_male_5_stretch.wav', 'speech_digits/5/john_5_noise.wav', 'speech_digits/5/libritts_5_stretch.wav', 'speech_digits/5/arctic_5_stretch.wav', 'speech_digits/5/arctic_5_shift.wav', 'speech_digits/5/john_5_pitch.wav', 'speech_digits/5/kristin_5_pitch.wav', 'speech_digits/5/joe_5_shift.wav', 'speech_digits/5/hfc_male_5_original.wav', 'speech_digits/5/kusal_5_noise.wav', 'speech_digits/5/bryce_5_pitch.wav', 'speech_digits/5/lessac_5_noise.wav', 'speech_digits/5/ljspeech_5_stretch.wav', 'speech_digits/5/john_5_stretch.wav', 'speech_digits/5/libritts_r_5_shift.wav', 'speech_digits/5/ljspeech_5_shift.wav', 'speech_digits/5/amy_5_shift.wav', 'speech_digits/5/l2arctic_5_noise.wav', 'speech_digits/5/libritts_r_5_original.wav', 'speech_digits/5/libritts_5_original.wav', 'speech_digits/5/kusal_5_pitch.wav', 'speech_digits/5/hfc_female_5_stretch.wav', 'speech_digits/5/lessac_5_shift.wav', 'speech_digits/5/amy_5_pitch.wav', 'speech_digits/5/joe_5_noise.wav', 'speech_digits/5/kathleen_5_noise.wav', 'speech_digits/5/danny_5_shift.wav', 'speech_digits/5/arctic_5_original.wav', 'speech_digits/5/libritts_5_noise.wav', 'speech_digits/5/libritts_5_shift.wav', 'speech_digits/5/ryan_5_stretch.wav', 'speech_digits/5/hfc_female_5_pitch.wav', 'speech_digits/5/kristin_5_original.wav', 'speech_digits/5/norman_5_pitch.wav', 'speech_digits/5/amy_5_original.wav', 'speech_digits/5/hfc_female_5_original.wav', 'speech_digits/5/kristin_5_shift.wav', 'speech_digits/5/hfc_male_5_shift.wav', 'speech_digits/5/l2arctic_5_original.wav', 'speech_digits/5/kathleen_5_original.wav', 'speech_digits/5/kathleen_5_shift.wav', 'speech_digits/5/kathleen_5_pitch.wav', 'speech_digits/5/ryan_5_original.wav', 'speech_digits/5/libritts_r_5_stretch.wav', 'speech_digits/5/l2arctic_5_shift.wav', 'speech_digits/5/hfc_female_5_shift.wav', 'speech_digits/5/ljspeech_5_pitch.wav', 'speech_digits/5/bryce_5_noise.wav', 'speech_digits/5/ljspeech_5_original.wav', 'speech_digits/5/ryan_5_shift.wav', 'speech_digits/5/kathleen_5_stretch.wav', 'speech_digits/8/kathleen_8_shift.wav', 'speech_digits/8/john_8_original.wav', 'speech_digits/8/kathleen_8_noise.wav', 'speech_digits/8/arctic_8_shift.wav', 'speech_digits/8/hfc_female_8_original.wav', 'speech_digits/8/hfc_male_8_noise.wav', 'speech_digits/8/john_8_noise.wav', 'speech_digits/8/hfc_female_8_stretch.wav', 'speech_digits/8/ljspeech_8_noise.wav', 'speech_digits/8/norman_8_shift.wav', 'speech_digits/8/norman_8_stretch.wav', 'speech_digits/8/bryce_8_shift.wav', 'speech_digits/8/bryce_8_noise.wav', 'speech_digits/8/hfc_male_8_stretch.wav', 'speech_digits/8/hfc_female_8_noise.wav', 'speech_digits/8/kristin_8_original.wav', 'speech_digits/8/joe_8_shift.wav', 'speech_digits/8/amy_8_shift.wav', 'speech_digits/8/hfc_male_8_shift.wav', 'speech_digits/8/libritts_8_noise.wav', 'speech_digits/8/hfc_female_8_pitch.wav', 'speech_digits/8/l2arctic_8_original.wav', 'speech_digits/8/arctic_8_stretch.wav', 'speech_digits/8/libritts_r_8_stretch.wav', 'speech_digits/8/l2arctic_8_noise.wav', 'speech_digits/8/kusal_8_noise.wav', 'speech_digits/8/amy_8_noise.wav', 'speech_digits/8/ryan_8_noise.wav', 'speech_digits/8/amy_8_stretch.wav', 'speech_digits/8/ljspeech_8_pitch.wav', 'speech_digits/8/kusal_8_pitch.wav', 'speech_digits/8/hfc_male_8_original.wav', 'speech_digits/8/danny_8_original.wav', 'speech_digits/8/kusal_8_stretch.wav', 'speech_digits/8/ryan_8_pitch.wav', 'speech_digits/8/arctic_8_original.wav', 'speech_digits/8/joe_8_stretch.wav', 'speech_digits/8/ljspeech_8_shift.wav', 'speech_digits/8/norman_8_original.wav', 'speech_digits/8/amy_8_original.wav', 'speech_digits/8/ljspeech_8_stretch.wav', 'speech_digits/8/libritts_r_8_pitch.wav', 'speech_digits/8/bryce_8_pitch.wav', 'speech_digits/8/ryan_8_original.wav', 'speech_digits/8/lessac_8_shift.wav', 'speech_digits/8/danny_8_shift.wav', 'speech_digits/8/joe_8_original.wav', 'speech_digits/8/libritts_8_original.wav', 'speech_digits/8/ryan_8_shift.wav', 'speech_digits/8/danny_8_pitch.wav', 'speech_digits/8/kristin_8_pitch.wav', 'speech_digits/8/norman_8_noise.wav', 'speech_digits/8/kathleen_8_original.wav', 'speech_digits/8/joe_8_pitch.wav', 'speech_digits/8/john_8_pitch.wav', 'speech_digits/8/kusal_8_original.wav', 'speech_digits/8/ljspeech_8_original.wav', 'speech_digits/8/lessac_8_pitch.wav', 'speech_digits/8/lessac_8_noise.wav', 'speech_digits/8/kristin_8_stretch.wav', 'speech_digits/8/danny_8_stretch.wav', 'speech_digits/8/libritts_r_8_shift.wav', 'speech_digits/8/danny_8_noise.wav', 'speech_digits/8/john_8_shift.wav', 'speech_digits/8/ryan_8_stretch.wav', 'speech_digits/8/bryce_8_stretch.wav', 'speech_digits/8/libritts_8_pitch.wav', 'speech_digits/8/lessac_8_stretch.wav', 'speech_digits/8/libritts_8_shift.wav', 'speech_digits/8/hfc_female_8_shift.wav', 'speech_digits/8/libritts_8_stretch.wav', 'speech_digits/8/l2arctic_8_pitch.wav', 'speech_digits/8/joe_8_noise.wav', 'speech_digits/8/kristin_8_shift.wav', 'speech_digits/8/kusal_8_shift.wav', 'speech_digits/8/arctic_8_noise.wav', 'speech_digits/8/libritts_r_8_original.wav', 'speech_digits/8/l2arctic_8_stretch.wav', 'speech_digits/8/norman_8_pitch.wav', 'speech_digits/8/libritts_r_8_noise.wav', 'speech_digits/8/lessac_8_original.wav', 'speech_digits/8/kathleen_8_stretch.wav', 'speech_digits/8/bryce_8_original.wav', 'speech_digits/8/arctic_8_pitch.wav', 'speech_digits/8/kristin_8_noise.wav', 'speech_digits/8/amy_8_pitch.wav', 'speech_digits/8/hfc_male_8_pitch.wav', 'speech_digits/8/john_8_stretch.wav', 'speech_digits/8/kathleen_8_pitch.wav', 'speech_digits/8/l2arctic_8_shift.wav']\n"
     ]
    }
   ],
   "source": [
    "# get all of the fies in speech_digits with glob\n",
    "import glob\n",
    "\n",
    "files = glob.glob('speech_digits/*/*')\n",
    "\n",
    "print(len(files))\n",
    "print(files)"
   ]
  },
  {
   "cell_type": "code",
   "execution_count": null,
   "metadata": {},
   "outputs": [],
   "source": [
    "# display spectogramand audio player for all files in speech_digits/0\n",
    "import librosa\n",
    "import matplotlib.pyplot as plt\n",
    "import numpy as np\n",
    "from IPython.display import Audio, display\n",
    "\n",
    "\n",
    "# Define the directory for digit 0\n",
    "digit_dir = 'speech_digits/0'\n",
    "\n",
    "# Get all files in the digit directory\n",
    "files = glob.glob(os.path.join(digit_dir, '*.wav'))\n",
    "\n",
    "# Display spectogram and audio player for each file\n",
    "for file in files:\n",
    "    # Load the audio file\n",
    "    y, sr = librosa.load(file, sr=None)\n",
    "    \n",
    "    # Display the spectogram\n",
    "    plt.figure(figsize=(10, 4))\n",
    "    librosa.display.waveshow(y, sr=sr)\n",
    "    plt.title(f'Waveform for {os.path.basename(file)}')\n",
    "    plt.show()\n",
    "    \n",
    "    # Display the spectogram\n",
    "    plt.figure(figsize=(10, 4))\n",
    "    D = librosa.amplitude_to_db(np.abs(librosa.stft(y)), ref=np.max)\n",
    "    \n",
    "    plt.figure(figsize=(10, 4))\n",
    "    librosa.display.specshow(D, sr=sr, x_axis='time', y_axis='log')\n",
    "    plt.colorbar(format='%+2.0f dB')\n",
    "    plt.title(f'Spectrogram for {os.path.basename(file)}')\n",
    "    plt.show()\n",
    "\n",
    "\n",
    "    display(Audio(file))\n",
    "\n",
    "\n"
   ]
  },
  {
   "cell_type": "code",
   "execution_count": 58,
   "metadata": {},
   "outputs": [
    {
     "name": "stdout",
     "output_type": "stream",
     "text": [
      "Total files: 900\n",
      "Longest tensor size: 309182\n",
      "Number of valid audio files: 900\n",
      "Number of training batches: 23\n",
      "Number of test batches: 6\n"
     ]
    }
   ],
   "source": [
    "import glob\n",
    "import torch as t\n",
    "import librosa\n",
    "from torch.utils.data import Dataset, DataLoader\n",
    "\n",
    "files = glob.glob('speech_digits/*/*')\n",
    "print(f\"Total files: {len(files)}\")\n",
    "\n",
    "audio_data = []\n",
    "labels = []\n",
    "longest_tensor_size = 0\n",
    "\n",
    "# First pass: load data and find longest tensor\n",
    "for f in files:\n",
    "    try:\n",
    "        audio, sample_rate = librosa.load(f)\n",
    "        if len(audio) == 0:\n",
    "            print(f\"Warning: Empty audio file: {f}\")\n",
    "            continue\n",
    "        audio_tensor = t.from_numpy(audio).float()\n",
    "        audio_data.append(audio_tensor)\n",
    "        labels.append(int(f.split('/')[-2]))  # Adjust this based on your file structure\n",
    "        longest_tensor_size = max(longest_tensor_size, audio_tensor.size(0))\n",
    "    except Exception as e:\n",
    "        print(f\"Error processing file {f}: {str(e)}\")\n",
    "\n",
    "print(f\"Longest tensor size: {longest_tensor_size}\")\n",
    "print(f\"Number of valid audio files: {len(audio_data)}\")\n",
    "\n",
    "# Second pass: pad tensors\n",
    "padded_audio_data = []\n",
    "for audio_tensor in audio_data:\n",
    "    current_size = audio_tensor.size(0)\n",
    "    pad_size = longest_tensor_size - current_size\n",
    "    left_pad = pad_size // 2\n",
    "    right_pad = pad_size - left_pad\n",
    "    \n",
    "    padded_tensor = t.nn.functional.pad(audio_tensor, (left_pad, right_pad))\n",
    "    padded_audio_data.append(padded_tensor)\n",
    "\n",
    "# Convert labels to tensor\n",
    "label_tensor = t.tensor(labels)\n",
    "\n",
    "class AudioDataset(Dataset):\n",
    "    def __init__(self, audio_data, labels):\n",
    "        self.audio_data = audio_data\n",
    "        self.labels = labels\n",
    "\n",
    "    def __len__(self):\n",
    "        return len(self.audio_data)\n",
    "\n",
    "    def __getitem__(self, idx):\n",
    "        return self.audio_data[idx], self.labels[idx]\n",
    "\n",
    "# Create datasets\n",
    "full_dataset = AudioDataset(padded_audio_data, label_tensor)\n",
    "train_size = int(0.8 * len(full_dataset))\n",
    "test_size = len(full_dataset) - train_size\n",
    "train_dataset, test_dataset = t.utils.data.random_split(full_dataset, [train_size, test_size])\n",
    "\n",
    "# Create dataloaders\n",
    "train_loader = DataLoader(train_dataset, batch_size=32, shuffle=True)\n",
    "test_loader = DataLoader(test_dataset, batch_size=32, shuffle=True)\n",
    "\n",
    "print(f\"Number of training batches: {len(train_loader)}\")\n",
    "print(f\"Number of test batches: {len(test_loader)}\")\n"
   ]
  },
  {
   "cell_type": "code",
   "execution_count": 59,
   "metadata": {},
   "outputs": [],
   "source": [
    "# create our model, a simple MLP\n",
    "\n",
    "model = t.nn.Sequential(\n",
    "    t.nn.Flatten(),\n",
    "    t.nn.Linear(longest_tensor_size, 512),\n",
    "    t.nn.ReLU(),\n",
    "    t.nn.Linear(512, 512),\n",
    "    t.nn.ReLU(),\n",
    "    t.nn.Linear(512, 10),\n",
    "    t.nn.Softmax(dim=1)\n",
    ")"
   ]
  },
  {
   "cell_type": "code",
   "execution_count": 60,
   "metadata": {},
   "outputs": [
    {
     "name": "stderr",
     "output_type": "stream",
     "text": [
      " 10%|█         | 1/10 [00:24<03:42, 24.78s/it]"
     ]
    },
    {
     "name": "stdout",
     "output_type": "stream",
     "text": [
      "Epoch 1/10, Loss: 2.2205870151519775\n"
     ]
    },
    {
     "name": "stderr",
     "output_type": "stream",
     "text": [
      " 20%|██        | 2/10 [00:49<03:15, 24.49s/it]"
     ]
    },
    {
     "name": "stdout",
     "output_type": "stream",
     "text": [
      "Epoch 2/10, Loss: 1.6150628328323364\n"
     ]
    },
    {
     "name": "stderr",
     "output_type": "stream",
     "text": [
      " 30%|███       | 3/10 [01:13<02:50, 24.42s/it]"
     ]
    },
    {
     "name": "stdout",
     "output_type": "stream",
     "text": [
      "Epoch 3/10, Loss: 1.6584043502807617\n"
     ]
    },
    {
     "name": "stderr",
     "output_type": "stream",
     "text": [
      " 40%|████      | 4/10 [01:37<02:26, 24.41s/it]"
     ]
    },
    {
     "name": "stdout",
     "output_type": "stream",
     "text": [
      "Epoch 4/10, Loss: 1.4612865447998047\n"
     ]
    },
    {
     "name": "stderr",
     "output_type": "stream",
     "text": [
      " 50%|█████     | 5/10 [02:02<02:02, 24.42s/it]"
     ]
    },
    {
     "name": "stdout",
     "output_type": "stream",
     "text": [
      "Epoch 5/10, Loss: 1.4622478485107422\n"
     ]
    },
    {
     "name": "stderr",
     "output_type": "stream",
     "text": [
      " 60%|██████    | 6/10 [02:26<01:37, 24.41s/it]"
     ]
    },
    {
     "name": "stdout",
     "output_type": "stream",
     "text": [
      "Epoch 6/10, Loss: 1.462381362915039\n"
     ]
    },
    {
     "name": "stderr",
     "output_type": "stream",
     "text": [
      " 70%|███████   | 7/10 [02:51<01:13, 24.42s/it]"
     ]
    },
    {
     "name": "stdout",
     "output_type": "stream",
     "text": [
      "Epoch 7/10, Loss: 1.4614914655685425\n"
     ]
    },
    {
     "name": "stderr",
     "output_type": "stream",
     "text": [
      " 80%|████████  | 8/10 [03:15<00:48, 24.42s/it]"
     ]
    },
    {
     "name": "stdout",
     "output_type": "stream",
     "text": [
      "Epoch 8/10, Loss: 1.4613432884216309\n"
     ]
    },
    {
     "name": "stderr",
     "output_type": "stream",
     "text": [
      " 90%|█████████ | 9/10 [03:39<00:24, 24.40s/it]"
     ]
    },
    {
     "name": "stdout",
     "output_type": "stream",
     "text": [
      "Epoch 9/10, Loss: 1.5236897468566895\n"
     ]
    },
    {
     "name": "stderr",
     "output_type": "stream",
     "text": [
      "100%|██████████| 10/10 [04:04<00:00, 24.43s/it]"
     ]
    },
    {
     "name": "stdout",
     "output_type": "stream",
     "text": [
      "Epoch 10/10, Loss: 1.5237348079681396\n"
     ]
    },
    {
     "name": "stderr",
     "output_type": "stream",
     "text": [
      "\n"
     ]
    },
    {
     "name": "stdout",
     "output_type": "stream",
     "text": [
      "Accuracy of the model on the test set: 47.77777777777778%\n"
     ]
    }
   ],
   "source": [
    "# train our model\n",
    "from tqdm import tqdm\n",
    "\n",
    "device = t.device('cuda' if t.cuda.is_available() else 'cpu')\n",
    "\n",
    "model.to(device)\n",
    "\n",
    "loss_fn = t.nn.CrossEntropyLoss()\n",
    "optimizer = t.optim.Adam(model.parameters(), lr=0.001)\n",
    "\n",
    "epochs = 10\n",
    "\n",
    "for epoch in tqdm(range(epochs)):\n",
    "    model.train()\n",
    "    for batch in train_loader:\n",
    "        inputs, targets = batch\n",
    "        inputs, targets = inputs.to(device), targets.to(device)\n",
    "\n",
    "        optimizer.zero_grad()\n",
    "        outputs = model(inputs)\n",
    "        loss = loss_fn(outputs, targets)\n",
    "        loss.backward()\n",
    "        optimizer.step()\n",
    "\n",
    "    print(f\"Epoch {epoch+1}/{epochs}, Loss: {loss.item()}\")\n",
    "\n",
    "# evaluate our model\n",
    "\n",
    "model.eval()\n",
    "\n",
    "correct = 0\n",
    "total = 0\n",
    "\n",
    "with t.no_grad():\n",
    "    for batch in test_loader:\n",
    "        inputs, targets = batch\n",
    "        inputs, targets = inputs.to(device), targets.to(device)\n",
    "\n",
    "        outputs = model(inputs)\n",
    "        _, predicted = t.max(outputs.data, 1)\n",
    "        total += targets.size(0)\n",
    "        correct += (predicted == targets).sum().item()\n",
    "\n",
    "print(f\"Accuracy of the model on the test set: {100 * correct / total}%\")\n",
    "\n"
   ]
  },
  {
   "cell_type": "code",
   "execution_count": null,
   "metadata": {},
   "outputs": [],
   "source": []
  }
 ],
 "metadata": {
  "kernelspec": {
   "display_name": "lasm",
   "language": "python",
   "name": "python3"
  },
  "language_info": {
   "codemirror_mode": {
    "name": "ipython",
    "version": 3
   },
   "file_extension": ".py",
   "mimetype": "text/x-python",
   "name": "python",
   "nbconvert_exporter": "python",
   "pygments_lexer": "ipython3",
   "version": "3.10.15"
  }
 },
 "nbformat": 4,
 "nbformat_minor": 2
}
