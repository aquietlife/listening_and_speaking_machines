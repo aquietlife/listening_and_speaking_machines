{
 "cells": [
  {
   "cell_type": "markdown",
   "metadata": {},
   "source": [
    "# Speech Transformer\n",
    "\n",
    "A clean implementation of a transformer-based ASR system, based on the Speech-Transformer paper\n",
    "\n",
    "[Speech-Transformer: A No-Recurrence Sequence-to-Sequence Model for Speech Recognition](https://ieeexplore.ieee.org/document/8462506)"
   ]
  },
  {
   "cell_type": "code",
   "execution_count": null,
   "metadata": {},
   "outputs": [],
   "source": [
    "# download CommonVoice dataset\n",
    "\n",
    "# downloading Common Voice Corpus 19.0 on 11/09/2024, 83.95 gb"
   ]
  }
 ],
 "metadata": {
  "language_info": {
   "name": "python"
  }
 },
 "nbformat": 4,
 "nbformat_minor": 2
}
